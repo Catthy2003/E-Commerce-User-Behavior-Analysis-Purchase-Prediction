{
 "cells": [
  {
   "cell_type": "code",
   "execution_count": null,
   "id": "0dcaaf65-b7f5-4a96-94e4-f957a2d8cd48",
   "metadata": {},
   "outputs": [],
   "source": [
    "import pandas as pd\n",
    "import os\n",
    "import json\n",
    "import datetime\n",
    "import matplotlib.pyplot as plt\n",
    "import seaborn as sns\n",
    "%matplotlib inline"
   ]
  },
  {
   "cell_type": "markdown",
   "id": "4c31cbf9-dc11-494a-9555-94ba016bab46",
   "metadata": {},
   "source": [
    "# Objectives\n",
    "\n",
    "This notebook file is meant to give the analysts a very quick view on what dataset they will be analyzing, what key features does the dataset perform, what are the essential events and how are they distributed and a few other key aspects digital marketing analyst/product analyst would definitely spend time investigating.\n",
    "\n",
    "**NOTE:** The dataset is from Kaggle - a website that provides diversity and quality datasets. You could asess the dataset's source at following direction: https://www.kaggle.com/datasets/mkechinov/ecommerce-behavior-data-from-multi-category-store/data"
   ]
  },
  {
   "cell_type": "code",
   "execution_count": null,
   "id": "fa9e5f5b-0c1d-404d-a33e-8816d1d95382",
   "metadata": {},
   "outputs": [],
   "source": [
    "csv_path = r'C:\\Users\\catth\\OneDrive\\Documents\\Data\\2020-Apr.csv'\n",
    "\n",
    "chunk_size = 10_000\n",
    "chunks = []\n",
    "\n",
    "for chunk in pd.read_csv(csv_path, parse_dates=[\"event_time\"], chunksize=chunk_size):\n",
    "    for col in chunk.select_dtypes(include='Afloat'):\n",
    "        chunk[col] = pd.to_numeric(chunk[col], downcast='float')\n",
    "    for col in chunk.select_dtypes(include='int'):\n",
    "        chunk[col] = pd.to_numeric(chunk[col], downcast='integer')\n",
    "    chunks.append(chunk)\n",
    "\n",
    "data = pd.concat(chunks, ignore_index=True)\n",
    "parquet_path = r'C:\\Users\\catth\\OneDrive\\Documents\\Data\\2020-Apr.csv.filtered.parquet'\n",
    "data.to_parquet(parquet_path)"
   ]
  },
  {
   "cell_type": "markdown",
   "id": "6d9910ca-937f-4806-ac3b-a9fcf177967a",
   "metadata": {},
   "source": [
    "The dataset is quite big so i saved it as a parquet file."
   ]
  },
  {
   "cell_type": "code",
   "execution_count": null,
   "id": "f8018d2e-4e21-4fa8-a702-45031151d5e0",
   "metadata": {},
   "outputs": [],
   "source": []
  }
 ],
 "metadata": {
  "kernelspec": {
   "display_name": "Python 3 (ipykernel)",
   "language": "python",
   "name": "python3"
  },
  "language_info": {
   "codemirror_mode": {
    "name": "ipython",
    "version": 3
   },
   "file_extension": ".py",
   "mimetype": "text/x-python",
   "name": "python",
   "nbconvert_exporter": "python",
   "pygments_lexer": "ipython3",
   "version": "3.13.5"
  }
 },
 "nbformat": 4,
 "nbformat_minor": 5
}
